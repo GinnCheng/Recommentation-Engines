{
 "cells": [
  {
   "cell_type": "code",
   "execution_count": 1,
   "id": "c819df6a-dcf7-4fc1-a05e-eadcb93cfbb3",
   "metadata": {},
   "outputs": [],
   "source": [
    "import pandas as pd\n",
    "import numpy as np\n",
    "from scipy.stats import binom_test\n",
    "from scipy import stats\n",
    "import matplotlib.pyplot as plt"
   ]
  },
  {
   "cell_type": "code",
   "execution_count": 2,
   "id": "836f52c8-7da5-4ca3-9932-958a313926c2",
   "metadata": {},
   "outputs": [],
   "source": [
    "file_loc = '/Users/gzcheng/Desktop/Udacity/ABTesting/homepage-experiment-data.csv'"
   ]
  },
  {
   "cell_type": "code",
   "execution_count": 27,
   "id": "79cb642a-0b7f-4663-bc40-7dd97a69108f",
   "metadata": {},
   "outputs": [
    {
     "data": {
      "text/html": [
       "<div>\n",
       "<style scoped>\n",
       "    .dataframe tbody tr th:only-of-type {\n",
       "        vertical-align: middle;\n",
       "    }\n",
       "\n",
       "    .dataframe tbody tr th {\n",
       "        vertical-align: top;\n",
       "    }\n",
       "\n",
       "    .dataframe thead th {\n",
       "        text-align: right;\n",
       "    }\n",
       "</style>\n",
       "<table border=\"1\" class=\"dataframe\">\n",
       "  <thead>\n",
       "    <tr style=\"text-align: right;\">\n",
       "      <th></th>\n",
       "      <th>Control Cookies</th>\n",
       "      <th>Control Downloads</th>\n",
       "      <th>Control Licenses</th>\n",
       "      <th>Experiment Cookies</th>\n",
       "      <th>Experiment Downloads</th>\n",
       "      <th>Experiment Licenses</th>\n",
       "    </tr>\n",
       "    <tr>\n",
       "      <th>Day</th>\n",
       "      <th></th>\n",
       "      <th></th>\n",
       "      <th></th>\n",
       "      <th></th>\n",
       "      <th></th>\n",
       "      <th></th>\n",
       "    </tr>\n",
       "  </thead>\n",
       "  <tbody>\n",
       "    <tr>\n",
       "      <th>12</th>\n",
       "      <td>1529</td>\n",
       "      <td>228</td>\n",
       "      <td>23</td>\n",
       "      <td>1567</td>\n",
       "      <td>267</td>\n",
       "      <td>34</td>\n",
       "    </tr>\n",
       "    <tr>\n",
       "      <th>3</th>\n",
       "      <td>1457</td>\n",
       "      <td>240</td>\n",
       "      <td>1</td>\n",
       "      <td>1515</td>\n",
       "      <td>274</td>\n",
       "      <td>1</td>\n",
       "    </tr>\n",
       "    <tr>\n",
       "      <th>11</th>\n",
       "      <td>1478</td>\n",
       "      <td>240</td>\n",
       "      <td>35</td>\n",
       "      <td>1555</td>\n",
       "      <td>279</td>\n",
       "      <td>36</td>\n",
       "    </tr>\n",
       "    <tr>\n",
       "      <th>9</th>\n",
       "      <td>1478</td>\n",
       "      <td>223</td>\n",
       "      <td>30</td>\n",
       "      <td>1553</td>\n",
       "      <td>298</td>\n",
       "      <td>38</td>\n",
       "    </tr>\n",
       "    <tr>\n",
       "      <th>29</th>\n",
       "      <td>1781</td>\n",
       "      <td>254</td>\n",
       "      <td>33</td>\n",
       "      <td>1728</td>\n",
       "      <td>290</td>\n",
       "      <td>41</td>\n",
       "    </tr>\n",
       "  </tbody>\n",
       "</table>\n",
       "</div>"
      ],
      "text/plain": [
       "     Control Cookies  Control Downloads  Control Licenses  Experiment Cookies  \\\n",
       "Day                                                                             \n",
       "12              1529                228                23                1567   \n",
       "3               1457                240                 1                1515   \n",
       "11              1478                240                35                1555   \n",
       "9               1478                223                30                1553   \n",
       "29              1781                254                33                1728   \n",
       "\n",
       "     Experiment Downloads  Experiment Licenses  \n",
       "Day                                             \n",
       "12                    267                   34  \n",
       "3                     274                    1  \n",
       "11                    279                   36  \n",
       "9                     298                   38  \n",
       "29                    290                   41  "
      ]
     },
     "execution_count": 27,
     "metadata": {},
     "output_type": "execute_result"
    }
   ],
   "source": [
    "df = pd.read_csv(file_loc, index_col='Day')"
   ]
  },
  {
   "cell_type": "code",
   "execution_count": 39,
   "id": "04331420-3dcd-4cd9-8aaf-c42e24271155",
   "metadata": {},
   "outputs": [
    {
     "data": {
      "text/html": [
       "<div>\n",
       "<style scoped>\n",
       "    .dataframe tbody tr th:only-of-type {\n",
       "        vertical-align: middle;\n",
       "    }\n",
       "\n",
       "    .dataframe tbody tr th {\n",
       "        vertical-align: top;\n",
       "    }\n",
       "\n",
       "    .dataframe thead th {\n",
       "        text-align: right;\n",
       "    }\n",
       "</style>\n",
       "<table border=\"1\" class=\"dataframe\">\n",
       "  <thead>\n",
       "    <tr style=\"text-align: right;\">\n",
       "      <th></th>\n",
       "      <th>Control Cookies</th>\n",
       "      <th>Control Downloads</th>\n",
       "      <th>Control Licenses</th>\n",
       "      <th>Experiment Cookies</th>\n",
       "      <th>Experiment Downloads</th>\n",
       "      <th>Experiment Licenses</th>\n",
       "    </tr>\n",
       "    <tr>\n",
       "      <th>Day</th>\n",
       "      <th></th>\n",
       "      <th></th>\n",
       "      <th></th>\n",
       "      <th></th>\n",
       "      <th></th>\n",
       "      <th></th>\n",
       "    </tr>\n",
       "  </thead>\n",
       "  <tbody>\n",
       "    <tr>\n",
       "      <th>21</th>\n",
       "      <td>1602</td>\n",
       "      <td>271</td>\n",
       "      <td>38</td>\n",
       "      <td>1588</td>\n",
       "      <td>256</td>\n",
       "      <td>44</td>\n",
       "    </tr>\n",
       "    <tr>\n",
       "      <th>8</th>\n",
       "      <td>1798</td>\n",
       "      <td>331</td>\n",
       "      <td>12</td>\n",
       "      <td>1787</td>\n",
       "      <td>326</td>\n",
       "      <td>20</td>\n",
       "    </tr>\n",
       "    <tr>\n",
       "      <th>1</th>\n",
       "      <td>1764</td>\n",
       "      <td>246</td>\n",
       "      <td>1</td>\n",
       "      <td>1850</td>\n",
       "      <td>339</td>\n",
       "      <td>3</td>\n",
       "    </tr>\n",
       "    <tr>\n",
       "      <th>11</th>\n",
       "      <td>1478</td>\n",
       "      <td>240</td>\n",
       "      <td>35</td>\n",
       "      <td>1555</td>\n",
       "      <td>279</td>\n",
       "      <td>36</td>\n",
       "    </tr>\n",
       "    <tr>\n",
       "      <th>3</th>\n",
       "      <td>1457</td>\n",
       "      <td>240</td>\n",
       "      <td>1</td>\n",
       "      <td>1515</td>\n",
       "      <td>274</td>\n",
       "      <td>1</td>\n",
       "    </tr>\n",
       "  </tbody>\n",
       "</table>\n",
       "</div>"
      ],
      "text/plain": [
       "     Control Cookies  Control Downloads  Control Licenses  Experiment Cookies  \\\n",
       "Day                                                                             \n",
       "21              1602                271                38                1588   \n",
       "8               1798                331                12                1787   \n",
       "1               1764                246                 1                1850   \n",
       "11              1478                240                35                1555   \n",
       "3               1457                240                 1                1515   \n",
       "\n",
       "     Experiment Downloads  Experiment Licenses  \n",
       "Day                                             \n",
       "21                    256                   44  \n",
       "8                     326                   20  \n",
       "1                     339                    3  \n",
       "11                    279                   36  \n",
       "3                     274                    1  "
      ]
     },
     "execution_count": 39,
     "metadata": {},
     "output_type": "execute_result"
    }
   ],
   "source": [
    "df.sample(5)"
   ]
  },
  {
   "cell_type": "code",
   "execution_count": 4,
   "id": "af1fdb53-dbd5-461d-9d22-40e2c87644c8",
   "metadata": {},
   "outputs": [],
   "source": [
    "df_ctr, df_exp = pd.DataFrame(), pd.DataFrame()\n",
    "df_ctr[['cookies','downloads','license']] = df[['Control Cookies','Control Downloads','Control Licenses']]\n",
    "df_exp[['cookies','downloads','license']] = df[['Experiment Cookies','Experiment Downloads','Experiment Licenses']]"
   ]
  },
  {
   "cell_type": "code",
   "execution_count": 5,
   "id": "84a7f165-f8fa-421c-9b82-03b87994a51c",
   "metadata": {},
   "outputs": [
    {
     "data": {
      "text/plain": [
       "1743"
      ]
     },
     "execution_count": 5,
     "metadata": {},
     "output_type": "execute_result"
    }
   ],
   "source": [
    "df_ctr['cookies'].iloc[21]"
   ]
  },
  {
   "cell_type": "code",
   "execution_count": 6,
   "id": "540885a5-4766-4d52-ae4a-ed0715c88194",
   "metadata": {},
   "outputs": [],
   "source": [
    "df_ctr['download_rate'] = df_ctr['downloads']/df_ctr['cookies']\n",
    "df_exp['download_rate'] = df_exp['downloads']/df_exp['cookies']\n",
    "df_ctr['license_rate'] = df_ctr['license']/df_ctr['cookies'].iloc[21]\n",
    "df_exp['license_rate'] = df_exp['license']/df_exp['cookies'].iloc[21]\n",
    "df_ctr['type'] = 'ctr'\n",
    "df_exp['type'] = 'exp'"
   ]
  },
  {
   "cell_type": "code",
   "execution_count": 7,
   "id": "4999ba01-13c1-4946-8d3d-a2fe5ce8d10d",
   "metadata": {},
   "outputs": [],
   "source": [
    "p_cookies = 3250/2"
   ]
  },
  {
   "cell_type": "code",
   "execution_count": 8,
   "id": "1152f96d-371c-4f18-a9bb-02a836624ab6",
   "metadata": {},
   "outputs": [],
   "source": [
    "mu_ctr_cookies, sig_ctr_cookies, n_ctr_cookies = np.mean(df_ctr.cookies), np.std(df_ctr.cookies), df_ctr.shape[0]\n",
    "mu_exp_cookies, sig_exp_cookies, n_exp_cookies = np.mean(df_exp.cookies), np.std(df_exp.cookies), df_exp.shape[0]"
   ]
  },
  {
   "cell_type": "markdown",
   "id": "3844d6d5-16fb-461c-b619-fdcfac3c6376",
   "metadata": {},
   "source": [
    "# check the invariant metrics"
   ]
  },
  {
   "cell_type": "code",
   "execution_count": 9,
   "id": "9dd98c2a-c8c5-4a55-932f-d19e11f91036",
   "metadata": {},
   "outputs": [],
   "source": [
    "# dtr_exp = np.random.normal(loc=p_cookies, scale=sig_exp_cookies, size=n_exp_cookies)\n",
    "# # Perform one-sample t-test\n",
    "# _, pv_exp_cookies = stats.ttest_1samp(dtr_exp, mu_exp_cookies)\n",
    "# pv_exp_cookies"
   ]
  },
  {
   "cell_type": "code",
   "execution_count": 10,
   "id": "83fe99d4-9425-4da4-9076-b33ca9986de0",
   "metadata": {},
   "outputs": [
    {
     "name": "stdout",
     "output_type": "stream",
     "text": [
      "Total number of observation:  94197\n",
      "Total number of control group:  46851\n",
      "Total number of experiment group:  47346\n",
      "z score:  -1.6128228329131302\n",
      "p value:  0.10678300401876312\n"
     ]
    }
   ],
   "source": [
    "n_control = df['Control Cookies'].sum()\n",
    "n_experiment = df['Experiment Cookies'].sum()\n",
    "n_obs = n_control + n_experiment\n",
    "\n",
    "print(\"Total number of observation: \", n_obs)\n",
    "print(\"Total number of control group: \", n_control)\n",
    "print(\"Total number of experiment group: \", n_experiment)\n",
    "# Compute a z-score and p-value\n",
    "p = 0.5\n",
    "sd = np.sqrt(p * (1-p) * n_obs)\n",
    "\n",
    "z = (n_control - p * n_obs) / sd\n",
    "\n",
    "print(\"z score: \",z)\n",
    "print(\"p value: \", 2 * stats.norm.cdf(z))"
   ]
  },
  {
   "cell_type": "markdown",
   "id": "d4904ae7-823b-407f-9d3a-5284bf39696e",
   "metadata": {},
   "source": [
    "# check the evaluation metrics"
   ]
  },
  {
   "cell_type": "markdown",
   "id": "10859ada-d07f-4f42-996d-36987116c007",
   "metadata": {},
   "source": [
    "># download rate"
   ]
  },
  {
   "cell_type": "markdown",
   "id": "82b75756-83d2-47db-8acb-e8dc97ce3a1f",
   "metadata": {},
   "source": [
    "> assuming the download rate is not increased. Therefore,\n",
    ">\n",
    "> null: $H_1 \\leq H_0$\n",
    "> \n",
    "> alternative: $H_1 > H_0$"
   ]
  },
  {
   "cell_type": "markdown",
   "id": "0919f4b6-4739-46dd-9dc0-1e6cf8f74059",
   "metadata": {},
   "source": [
    "> To do this, we need to find p-value. As the dataset is small we can use bootstraping"
   ]
  },
  {
   "cell_type": "code",
   "execution_count": 50,
   "id": "80bb1104-d83b-48eb-9d1b-a04d99435b00",
   "metadata": {},
   "outputs": [],
   "source": [
    "sample_diff = []\n",
    "for i in range(10000):\n",
    "    sample_0 = df_ctr.download_rate.sample(15)\n",
    "    sample_1 = df_exp.download_rate.sample(15)\n",
    "    sample_diff.append(sample_0.mean() - sample_1.mean())"
   ]
  },
  {
   "cell_type": "code",
   "execution_count": 51,
   "id": "cd03df4c-f01e-4cb0-9823-b95beb5d04e8",
   "metadata": {},
   "outputs": [
    {
     "data": {
      "text/plain": [
       "-0.01953770394692793"
      ]
     },
     "execution_count": 51,
     "metadata": {},
     "output_type": "execute_result"
    }
   ],
   "source": [
    "mu, std = np.mean(sample_diff), np.std(sample_diff)\n",
    "mu"
   ]
  },
  {
   "cell_type": "code",
   "execution_count": 52,
   "id": "42a28a71-139a-46b2-bc58-43e970c75f20",
   "metadata": {},
   "outputs": [
    {
     "data": {
      "text/plain": [
       "0.002539421902230108"
      ]
     },
     "execution_count": 52,
     "metadata": {},
     "output_type": "execute_result"
    }
   ],
   "source": [
    "std"
   ]
  },
  {
   "cell_type": "markdown",
   "id": "6f460d23-a54b-474b-b30c-c4da0f2eaf97",
   "metadata": {},
   "source": [
    "> setup the zero mean normal distribution"
   ]
  },
  {
   "cell_type": "code",
   "execution_count": 53,
   "id": "a39a6966-a14d-4cf9-882e-0d5fba96cdd0",
   "metadata": {},
   "outputs": [],
   "source": [
    "bino = np.random.normal(loc=0, scale = 1, size=len(sample_diff))"
   ]
  },
  {
   "cell_type": "code",
   "execution_count": 55,
   "id": "7d9ff49e-df3d-4e78-babc-8ed0e99a5c4f",
   "metadata": {},
   "outputs": [
    {
     "data": {
      "image/png": "[encoded data removed]",
      "text/plain": [
       "<Figure size 640x480 with 1 Axes>"
      ]
     },
     "metadata": {},
     "output_type": "display_data"
    }
   ],
   "source": [
    "plt.hist(bino,bins=100);"
   ]
  },
  {
   "cell_type": "markdown",
   "id": "350c4cef-6f9d-4ad6-9da4-2dfd24b4a58d",
   "metadata": {},
   "source": [
    "> get the p-value"
   ]
  },
  {
   "cell_type": "code",
   "execution_count": 56,
   "id": "053872c8-8ec0-48b4-a550-177eff01c68a",
   "metadata": {},
   "outputs": [
    {
     "data": {
      "text/plain": [
       "-7.693760508944973"
      ]
     },
     "execution_count": 56,
     "metadata": {},
     "output_type": "execute_result"
    }
   ],
   "source": [
    "z_score = (mu-0)/std\n",
    "z_score"
   ]
  },
  {
   "cell_type": "code",
   "execution_count": 57,
   "id": "52ebb265-4d7d-4e98-af89-55327626b9a5",
   "metadata": {},
   "outputs": [
    {
     "data": {
      "text/plain": [
       "7.143618532682473e-15"
      ]
     },
     "execution_count": 57,
     "metadata": {},
     "output_type": "execute_result"
    }
   ],
   "source": [
    "p_value = stats.norm.cdf(z_score)\n",
    "p_value"
   ]
  },
  {
   "cell_type": "markdown",
   "id": "65e50ffd-aa6c-41ba-bad4-e3bf9e2a76d4",
   "metadata": {},
   "source": [
    "># purchase rate"
   ]
  },
  {
   "cell_type": "code",
   "execution_count": 40,
   "id": "f9d194c4-d5f2-4835-8f2a-085b8e2bba4d",
   "metadata": {},
   "outputs": [
    {
     "data": {
      "text/html": [
       "<div>\n",
       "<style scoped>\n",
       "    .dataframe tbody tr th:only-of-type {\n",
       "        vertical-align: middle;\n",
       "    }\n",
       "\n",
       "    .dataframe tbody tr th {\n",
       "        vertical-align: top;\n",
       "    }\n",
       "\n",
       "    .dataframe thead th {\n",
       "        text-align: right;\n",
       "    }\n",
       "</style>\n",
       "<table border=\"1\" class=\"dataframe\">\n",
       "  <thead>\n",
       "    <tr style=\"text-align: right;\">\n",
       "      <th></th>\n",
       "      <th>cookies</th>\n",
       "      <th>downloads</th>\n",
       "      <th>license</th>\n",
       "      <th>download_rate</th>\n",
       "      <th>license_rate</th>\n",
       "      <th>type</th>\n",
       "    </tr>\n",
       "    <tr>\n",
       "      <th>Day</th>\n",
       "      <th></th>\n",
       "      <th></th>\n",
       "      <th></th>\n",
       "      <th></th>\n",
       "      <th></th>\n",
       "      <th></th>\n",
       "    </tr>\n",
       "  </thead>\n",
       "  <tbody>\n",
       "    <tr>\n",
       "      <th>1</th>\n",
       "      <td>1764</td>\n",
       "      <td>246</td>\n",
       "      <td>1</td>\n",
       "      <td>0.139456</td>\n",
       "      <td>0.000574</td>\n",
       "      <td>ctr</td>\n",
       "    </tr>\n",
       "    <tr>\n",
       "      <th>2</th>\n",
       "      <td>1541</td>\n",
       "      <td>234</td>\n",
       "      <td>2</td>\n",
       "      <td>0.151849</td>\n",
       "      <td>0.001147</td>\n",
       "      <td>ctr</td>\n",
       "    </tr>\n",
       "    <tr>\n",
       "      <th>3</th>\n",
       "      <td>1457</td>\n",
       "      <td>240</td>\n",
       "      <td>1</td>\n",
       "      <td>0.164722</td>\n",
       "      <td>0.000574</td>\n",
       "      <td>ctr</td>\n",
       "    </tr>\n",
       "    <tr>\n",
       "      <th>4</th>\n",
       "      <td>1587</td>\n",
       "      <td>224</td>\n",
       "      <td>1</td>\n",
       "      <td>0.141147</td>\n",
       "      <td>0.000574</td>\n",
       "      <td>ctr</td>\n",
       "    </tr>\n",
       "    <tr>\n",
       "      <th>5</th>\n",
       "      <td>1606</td>\n",
       "      <td>253</td>\n",
       "      <td>2</td>\n",
       "      <td>0.157534</td>\n",
       "      <td>0.001147</td>\n",
       "      <td>ctr</td>\n",
       "    </tr>\n",
       "  </tbody>\n",
       "</table>\n",
       "</div>"
      ],
      "text/plain": [
       "     cookies  downloads  license  download_rate  license_rate type\n",
       "Day                                                               \n",
       "1       1764        246        1       0.139456      0.000574  ctr\n",
       "2       1541        234        2       0.151849      0.001147  ctr\n",
       "3       1457        240        1       0.164722      0.000574  ctr\n",
       "4       1587        224        1       0.141147      0.000574  ctr\n",
       "5       1606        253        2       0.157534      0.001147  ctr"
      ]
     },
     "execution_count": 40,
     "metadata": {},
     "output_type": "execute_result"
    }
   ],
   "source": [
    "df_ctr.head()"
   ]
  },
  {
   "cell_type": "code",
   "execution_count": 41,
   "id": "4135b618-e62d-4322-8340-3a1dd2c939f3",
   "metadata": {},
   "outputs": [
    {
     "data": {
      "text/html": [
       "<div>\n",
       "<style scoped>\n",
       "    .dataframe tbody tr th:only-of-type {\n",
       "        vertical-align: middle;\n",
       "    }\n",
       "\n",
       "    .dataframe tbody tr th {\n",
       "        vertical-align: top;\n",
       "    }\n",
       "\n",
       "    .dataframe thead th {\n",
       "        text-align: right;\n",
       "    }\n",
       "</style>\n",
       "<table border=\"1\" class=\"dataframe\">\n",
       "  <thead>\n",
       "    <tr style=\"text-align: right;\">\n",
       "      <th></th>\n",
       "      <th>cookies</th>\n",
       "      <th>downloads</th>\n",
       "      <th>license</th>\n",
       "      <th>download_rate</th>\n",
       "      <th>license_rate</th>\n",
       "      <th>type</th>\n",
       "    </tr>\n",
       "    <tr>\n",
       "      <th>Day</th>\n",
       "      <th></th>\n",
       "      <th></th>\n",
       "      <th></th>\n",
       "      <th></th>\n",
       "      <th></th>\n",
       "      <th></th>\n",
       "    </tr>\n",
       "  </thead>\n",
       "  <tbody>\n",
       "    <tr>\n",
       "      <th>1</th>\n",
       "      <td>1850</td>\n",
       "      <td>339</td>\n",
       "      <td>3</td>\n",
       "      <td>0.183243</td>\n",
       "      <td>0.001612</td>\n",
       "      <td>exp</td>\n",
       "    </tr>\n",
       "    <tr>\n",
       "      <th>2</th>\n",
       "      <td>1590</td>\n",
       "      <td>281</td>\n",
       "      <td>2</td>\n",
       "      <td>0.176730</td>\n",
       "      <td>0.001075</td>\n",
       "      <td>exp</td>\n",
       "    </tr>\n",
       "    <tr>\n",
       "      <th>3</th>\n",
       "      <td>1515</td>\n",
       "      <td>274</td>\n",
       "      <td>1</td>\n",
       "      <td>0.180858</td>\n",
       "      <td>0.000537</td>\n",
       "      <td>exp</td>\n",
       "    </tr>\n",
       "    <tr>\n",
       "      <th>4</th>\n",
       "      <td>1541</td>\n",
       "      <td>284</td>\n",
       "      <td>2</td>\n",
       "      <td>0.184296</td>\n",
       "      <td>0.001075</td>\n",
       "      <td>exp</td>\n",
       "    </tr>\n",
       "    <tr>\n",
       "      <th>5</th>\n",
       "      <td>1643</td>\n",
       "      <td>292</td>\n",
       "      <td>3</td>\n",
       "      <td>0.177724</td>\n",
       "      <td>0.001612</td>\n",
       "      <td>exp</td>\n",
       "    </tr>\n",
       "  </tbody>\n",
       "</table>\n",
       "</div>"
      ],
      "text/plain": [
       "     cookies  downloads  license  download_rate  license_rate type\n",
       "Day                                                               \n",
       "1       1850        339        3       0.183243      0.001612  exp\n",
       "2       1590        281        2       0.176730      0.001075  exp\n",
       "3       1515        274        1       0.180858      0.000537  exp\n",
       "4       1541        284        2       0.184296      0.001075  exp\n",
       "5       1643        292        3       0.177724      0.001612  exp"
      ]
     },
     "execution_count": 41,
     "metadata": {},
     "output_type": "execute_result"
    }
   ],
   "source": [
    "df_exp.head()"
   ]
  },
  {
   "cell_type": "code",
   "execution_count": 42,
   "id": "38623920-00a0-45d7-a188-5ae461216994",
   "metadata": {},
   "outputs": [],
   "source": [
    "sample_diff = []\n",
    "for i in range(10000):\n",
    "    sample_0 = df_ctr.license_rate.sample(15)\n",
    "    sample_1 = df_exp.license_rate.sample(15)\n",
    "    sample_diff.append(sample_0.mean() - sample_1.mean())\n",
    "mu, std = np.mean(sample_diff), np.std(sample_diff)"
   ]
  },
  {
   "cell_type": "code",
   "execution_count": 43,
   "id": "ad60009f-9184-43ce-b801-0d5c493b3d29",
   "metadata": {},
   "outputs": [],
   "source": [
    "bino = np.random.normal(loc=0, scale = 1, size=len(sample_diff))"
   ]
  },
  {
   "cell_type": "code",
   "execution_count": 44,
   "id": "6e3c97af-d2f5-4983-8690-36a834d15edd",
   "metadata": {},
   "outputs": [
    {
     "data": {
      "image/png": "[encoded data removed]",
      "text/plain": [
       "<Figure size 640x480 with 1 Axes>"
      ]
     },
     "metadata": {},
     "output_type": "display_data"
    }
   ],
   "source": [
    "plt.hist(bino,bins=100);"
   ]
  },
  {
   "cell_type": "code",
   "execution_count": 45,
   "id": "6245c85d-4149-4145-8560-d21dcf78e2ec",
   "metadata": {},
   "outputs": [
    {
     "data": {
      "text/plain": [
       "0.25998177945687645"
      ]
     },
     "execution_count": 45,
     "metadata": {},
     "output_type": "execute_result"
    }
   ],
   "source": [
    "z_score = (mu-0)/std\n",
    "z_score"
   ]
  },
  {
   "cell_type": "code",
   "execution_count": 46,
   "id": "40dbff31-b885-452c-9c06-d76816f0baea",
   "metadata": {},
   "outputs": [
    {
     "data": {
      "text/plain": [
       "0.0005072972137263254"
      ]
     },
     "execution_count": 46,
     "metadata": {},
     "output_type": "execute_result"
    }
   ],
   "source": [
    "mu"
   ]
  },
  {
   "cell_type": "code",
   "execution_count": 47,
   "id": "bec4832b-1cf0-4cf7-9ce5-42502496ea2f",
   "metadata": {},
   "outputs": [
    {
     "data": {
      "text/plain": [
       "0.0019512798734823316"
      ]
     },
     "execution_count": 47,
     "metadata": {},
     "output_type": "execute_result"
    }
   ],
   "source": [
    "std"
   ]
  },
  {
   "cell_type": "code",
   "execution_count": 49,
   "id": "7ef65e87-b4df-4f29-b033-efd82cdd15a8",
   "metadata": {},
   "outputs": [
    {
     "data": {
      "text/plain": [
       "0.39743891417534505"
      ]
     },
     "execution_count": 49,
     "metadata": {},
     "output_type": "execute_result"
    }
   ],
   "source": [
    "p_value = stats.norm.cdf(z_score)\n",
    "1-p_value"
   ]
  },
  {
   "cell_type": "code",
   "execution_count": null,
   "id": "fdd3b45b-3142-4583-9ca6-aa2ed773a846",
   "metadata": {},
   "outputs": [],
   "source": []
  },
  {
   "cell_type": "code",
   "execution_count": null,
   "id": "d0881e90-c901-48b5-956a-06c93118697c",
   "metadata": {},
   "outputs": [],
   "source": []
  }
 ],
 "metadata": {
  "kernelspec": {
   "display_name": "Python 3 (ipykernel)",
   "language": "python",
   "name": "python3"
  },
  "language_info": {
   "codemirror_mode": {
    "name": "ipython",
    "version": 3
   },
   "file_extension": ".py",
   "mimetype": "text/x-python",
   "name": "python",
   "nbconvert_exporter": "python",
   "pygments_lexer": "ipython3",
   "version": "3.8.9"
  }
 },
 "nbformat": 4,
 "nbformat_minor": 5
}
